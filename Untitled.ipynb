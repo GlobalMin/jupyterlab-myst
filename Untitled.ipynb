{
 "cells": [
  {
   "cell_type": "markdown",
   "id": "7fd00f2c-690c-4a9d-af67-c9fde0bfc86d",
   "metadata": {
    "tags": []
   },
   "source": [
    "## Hello\n",
    "\n",
    "```{note}\n",
    ":class: dropdown\n",
    "This is MyST in a notebook rendered by MySTjs!!\n",
    "```"
   ]
  },
  {
   "cell_type": "code",
   "execution_count": null,
   "id": "124203ea-d9d8-4c2b-91b7-eca7cd68ee3f",
   "metadata": {},
   "outputs": [],
   "source": []
  },
  {
   "cell_type": "code",
   "execution_count": null,
   "id": "cf3c5807-aaa8-479c-aebf-0dcbce5780b7",
   "metadata": {},
   "outputs": [],
   "source": []
  },
  {
   "cell_type": "code",
   "execution_count": null,
   "id": "14e75835-c015-4fb0-9ce5-a233da9cd567",
   "metadata": {},
   "outputs": [],
   "source": []
  },
  {
   "cell_type": "code",
   "execution_count": null,
   "id": "81f351d7-43e5-4279-9e8c-14c3911df5e3",
   "metadata": {},
   "outputs": [],
   "source": []
  },
  {
   "cell_type": "code",
   "execution_count": null,
   "id": "b4252567-f559-412d-ac9d-d4407b0ca05e",
   "metadata": {},
   "outputs": [],
   "source": []
  },
  {
   "cell_type": "code",
   "execution_count": null,
   "id": "9614f162-6f8b-4609-be79-754ee38a539c",
   "metadata": {},
   "outputs": [],
   "source": []
  },
  {
   "cell_type": "code",
   "execution_count": null,
   "id": "72b3c0fb-b395-45a2-8e18-e8263c3556f8",
   "metadata": {},
   "outputs": [],
   "source": []
  },
  {
   "cell_type": "code",
   "execution_count": null,
   "id": "ee23ced2-e34b-40df-865a-4912311d0ba7",
   "metadata": {},
   "outputs": [],
   "source": []
  }
 ],
 "metadata": {
  "kernelspec": {
   "display_name": "Python 3",
   "language": "python",
   "name": "python3"
  },
  "language_info": {
   "codemirror_mode": {
    "name": "ipython",
    "version": 3
   },
   "file_extension": ".py",
   "mimetype": "text/x-python",
   "name": "python",
   "nbconvert_exporter": "python",
   "pygments_lexer": "ipython3",
   "version": "3.10.8"
  },
  "widgets": {
   "application/vnd.jupyter.widget-state+json": {
    "state": {},
    "version_major": 2,
    "version_minor": 0
   }
  }
 },
 "nbformat": 4,
 "nbformat_minor": 5
}
